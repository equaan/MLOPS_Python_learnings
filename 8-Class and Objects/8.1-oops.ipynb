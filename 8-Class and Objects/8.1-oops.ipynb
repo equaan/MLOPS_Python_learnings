{
 "cells": [
  {
   "cell_type": "markdown",
   "id": "364026fc",
   "metadata": {},
   "source": [
    "## Classes and Objects\n",
    "\n",
    "Object-Oriented Programming(OOP) is a Programming paradigm that used \"objects\" to design applications and computer programs. OOP allows for modeling real-world scenarios using classes and objects."
   ]
  },
  {
   "cell_type": "markdown",
   "id": "08d97bd8",
   "metadata": {},
   "source": [
    "#### A class is a blue print for creating objects. Attributes, methods "
   ]
  },
  {
   "cell_type": "code",
   "execution_count": 2,
   "id": "2011d5c5",
   "metadata": {},
   "outputs": [
    {
     "name": "stdout",
     "output_type": "stream",
     "text": [
      "<class '__main__.Car'>\n"
     ]
    }
   ],
   "source": [
    "class Car:\n",
    "    pass\n",
    "\n",
    "audi=Car()\n",
    "bmw=Car()   ##creating an object\n",
    "\n",
    "print(type(audi))"
   ]
  },
  {
   "cell_type": "code",
   "execution_count": 4,
   "id": "6108f73a",
   "metadata": {},
   "outputs": [
    {
     "name": "stdout",
     "output_type": "stream",
     "text": [
      "<__main__.Car object at 0x000001EFCE058FE0>\n",
      "<__main__.Car object at 0x000001EFCE0590D0>\n"
     ]
    }
   ],
   "source": [
    "print(audi)\n",
    "print(bmw)  ##showing the object at the memory location"
   ]
  },
  {
   "cell_type": "code",
   "execution_count": 6,
   "id": "5730877b",
   "metadata": {},
   "outputs": [
    {
     "name": "stdout",
     "output_type": "stream",
     "text": [
      "4\n"
     ]
    }
   ],
   "source": [
    "audi.window=4   ##this is us makinf an attribute, which is a variable from the class\n",
    "print(audi.window)"
   ]
  },
  {
   "cell_type": "code",
   "execution_count": 8,
   "id": "205871d8",
   "metadata": {},
   "outputs": [
    {
     "name": "stdout",
     "output_type": "stream",
     "text": [
      "4\n"
     ]
    }
   ],
   "source": [
    "tata=Car()\n",
    "tata.door=4  ##and this is another attribute stating that the car has doors and tata has 4\n",
    "print(tata.door)"
   ]
  },
  {
   "cell_type": "code",
   "execution_count": 10,
   "id": "ce24f3ee",
   "metadata": {},
   "outputs": [
    {
     "ename": "AttributeError",
     "evalue": "'Car' object has no attribute 'window'",
     "output_type": "error",
     "traceback": [
      "\u001b[31m---------------------------------------------------------------------------\u001b[39m",
      "\u001b[31mAttributeError\u001b[39m                            Traceback (most recent call last)",
      "\u001b[36mCell\u001b[39m\u001b[36m \u001b[39m\u001b[32mIn[10]\u001b[39m\u001b[32m, line 1\u001b[39m\n\u001b[32m----> \u001b[39m\u001b[32m1\u001b[39m \u001b[38;5;28mprint\u001b[39m(\u001b[43mtata\u001b[49m\u001b[43m.\u001b[49m\u001b[43mwindow\u001b[49m)  \u001b[38;5;66;03m##here this is showing error bcoz we have not defined this attribute to tata\u001b[39;00m\n\u001b[32m      2\u001b[39m                     \u001b[38;5;66;03m##and this is the wrong method for declaring the attribute\u001b[39;00m\n",
      "\u001b[31mAttributeError\u001b[39m: 'Car' object has no attribute 'window'"
     ]
    }
   ],
   "source": [
    "print(tata.window)  ##here this is showing error bcoz we have not defined this attribute to tata\n",
    "                    ##and this is the wrong method for declaring the attribute"
   ]
  },
  {
   "cell_type": "code",
   "execution_count": 12,
   "id": "d10c16cd",
   "metadata": {},
   "outputs": [
    {
     "data": {
      "text/plain": [
       "['__class__',\n",
       " '__delattr__',\n",
       " '__dict__',\n",
       " '__dir__',\n",
       " '__doc__',\n",
       " '__eq__',\n",
       " '__format__',\n",
       " '__ge__',\n",
       " '__getattribute__',\n",
       " '__getstate__',\n",
       " '__gt__',\n",
       " '__hash__',\n",
       " '__init__',\n",
       " '__init_subclass__',\n",
       " '__le__',\n",
       " '__lt__',\n",
       " '__module__',\n",
       " '__ne__',\n",
       " '__new__',\n",
       " '__reduce__',\n",
       " '__reduce_ex__',\n",
       " '__repr__',\n",
       " '__setattr__',\n",
       " '__sizeof__',\n",
       " '__str__',\n",
       " '__subclasshook__',\n",
       " '__weakref__',\n",
       " 'door']"
      ]
     },
     "execution_count": 12,
     "metadata": {},
     "output_type": "execute_result"
    }
   ],
   "source": [
    "dir(tata)  ##predefined attributes and door will be one of them"
   ]
  },
  {
   "cell_type": "code",
   "execution_count": 17,
   "id": "b2cdeeb3",
   "metadata": {},
   "outputs": [
    {
     "name": "stdout",
     "output_type": "stream",
     "text": [
      "<__main__.Dog object at 0x000001EFCE15E480>\n",
      "Buddy\n",
      "3\n"
     ]
    }
   ],
   "source": [
    "##Instance variable and Methods\n",
    "\n",
    "class Dog:\n",
    "    ##constructor\n",
    "    def __init__(self,name,age):\n",
    "        self.name=name    ##this is an instance variable created in constructor variable bcoz\n",
    "        self.age=age      ##whenver we call this class, it asks for name and age.\n",
    "\n",
    "##creating an object\n",
    "dog1=Dog(\"Buddy\",3)\n",
    "print(dog1)\n",
    "print(dog1.name)\n",
    "print(dog1.age)"
   ]
  },
  {
   "cell_type": "code",
   "execution_count": 16,
   "id": "1b61d6fe",
   "metadata": {},
   "outputs": [
    {
     "name": "stdout",
     "output_type": "stream",
     "text": [
      "lucy 4\n"
     ]
    }
   ],
   "source": [
    "dog2=Dog(\"lucy\",4)\n",
    "print(dog2.name,dog2.age)"
   ]
  },
  {
   "cell_type": "code",
   "execution_count": null,
   "id": "9934763b",
   "metadata": {},
   "outputs": [
    {
     "name": "stdout",
     "output_type": "stream",
     "text": [
      "buddy says woof\n",
      "Lucy says woof\n"
     ]
    }
   ],
   "source": [
    "##Define a class with instance method\n",
    "\n",
    "class Dog:\n",
    "    def __init__(self,name,age):\n",
    "        self.name=name\n",
    "        self.age=age\n",
    "    \n",
    "    def bark(self):\n",
    "        print(f\"{self.name} says woof\")\n",
    "\n",
    "dog1=Dog(\"buddy\",3)    ##here object is different different dog types\n",
    "dog2=Dog(\"Lucy\",4)     ##where they all uses the same properties like name and age\n",
    "dog1.bark()            ##and they all use the same methods like bark.\n",
    "dog2.bark()\n"
   ]
  },
  {
   "cell_type": "code",
   "execution_count": 24,
   "id": "f5213d0e",
   "metadata": {},
   "outputs": [
    {
     "name": "stdout",
     "output_type": "stream",
     "text": [
      "5000\n"
     ]
    }
   ],
   "source": [
    "##Modeling a Bank Account\n",
    "\n",
    "#Define a class for bank account\n",
    "class BankAccount:\n",
    "    def __init__(self,name,balance=0):\n",
    "        self.name=name\n",
    "        self.balance=balance\n",
    "\n",
    "    def deposit(self,amount):\n",
    "        self.balance+=amount\n",
    "        print(f\"{amount} deposited. New balance is {self.balance}\")\n",
    "\n",
    "    def withdraw(self,amount):\n",
    "        if self.balance<amount:\n",
    "            print(\"Insufficeint Balance!\")\n",
    "        else:\n",
    "            self.balance-=amount\n",
    "            print(f\"{amount} withdrawn. New balance is {self.balance}\")\n",
    "    \n",
    "    def check_balance(self):\n",
    "        return self.balance\n",
    "    \n",
    "\n",
    "##create an account\n",
    "account=BankAccount(\"Equaan\",5000)\n",
    "print(account.balance)"
   ]
  },
  {
   "cell_type": "code",
   "execution_count": 26,
   "id": "031e1ef8",
   "metadata": {},
   "outputs": [
    {
     "name": "stdout",
     "output_type": "stream",
     "text": [
      "100 deposited. New balance is 5100\n"
     ]
    }
   ],
   "source": [
    "##Calling instance method\n",
    "account.deposit(100)"
   ]
  },
  {
   "cell_type": "code",
   "execution_count": 27,
   "id": "fc389775",
   "metadata": {},
   "outputs": [
    {
     "name": "stdout",
     "output_type": "stream",
     "text": [
      "300 withdrawn. New balance is 4800\n"
     ]
    }
   ],
   "source": [
    "account.withdraw(300)"
   ]
  },
  {
   "cell_type": "code",
   "execution_count": 30,
   "id": "d325660b",
   "metadata": {},
   "outputs": [
    {
     "name": "stdout",
     "output_type": "stream",
     "text": [
      "4800\n"
     ]
    }
   ],
   "source": [
    "print(account.check_balance())"
   ]
  },
  {
   "cell_type": "markdown",
   "id": "60a251e1",
   "metadata": {},
   "source": [
    "## Conclusion\n",
    "Object-Oriented Programming (OOP) allows you to model real-world scenarious using classes and objects."
   ]
  }
 ],
 "metadata": {
  "kernelspec": {
   "display_name": ".venv",
   "language": "python",
   "name": "python3"
  },
  "language_info": {
   "codemirror_mode": {
    "name": "ipython",
    "version": 3
   },
   "file_extension": ".py",
   "mimetype": "text/x-python",
   "name": "python",
   "nbconvert_exporter": "python",
   "pygments_lexer": "ipython3",
   "version": "3.12.4"
  }
 },
 "nbformat": 4,
 "nbformat_minor": 5
}
