{
 "cells": [
  {
   "cell_type": "markdown",
   "id": "ee293654",
   "metadata": {},
   "source": [
    "#### Example 1: Temperature Conversion"
   ]
  },
  {
   "cell_type": "code",
   "execution_count": 6,
   "id": "933135f3",
   "metadata": {},
   "outputs": [
    {
     "name": "stdout",
     "output_type": "stream",
     "text": [
      "77.0\n",
      "25.0\n"
     ]
    }
   ],
   "source": [
    "def convert_temperature(temp,unit):\n",
    "    \"\"\"This function converts temperature between Celsius and Fahrenheit\"\"\"\n",
    "    if unit=='C':\n",
    "        return temp *9/5 + 32  ##converts celcius to fahrenheit\n",
    "    elif unit=='F':\n",
    "        return (temp-32) * 5/9  ##converts fahrenheit to celcius\n",
    "    else:\n",
    "        return None\n",
    "\n",
    "print(convert_temperature(25,'C'))\n",
    "print(convert_temperature(77,'F')) "
   ]
  },
  {
   "cell_type": "markdown",
   "id": "23d85ec1",
   "metadata": {},
   "source": [
    "#### Example 2: Password Strength checker"
   ]
  },
  {
   "cell_type": "code",
   "execution_count": 11,
   "id": "c8616a1e",
   "metadata": {},
   "outputs": [
    {
     "name": "stdout",
     "output_type": "stream",
     "text": [
      "False\n",
      "True\n"
     ]
    }
   ],
   "source": [
    "def is_strong_password(password):\n",
    "    \"\"\"This function checks whether the password is strong or not\"\"\"\n",
    "    if len(password)<8:\n",
    "        return False\n",
    "    if not any(char.isdigit() for char in password):\n",
    "        return False\n",
    "    if not any(char.islower() for char in password):\n",
    "        return False\n",
    "    if not any(char.isupper() for char in password):\n",
    "        return False\n",
    "    if not any(char in '!@#$%^&*()_+' for char in password):\n",
    "        return False\n",
    "    return True\n",
    "\n",
    "##Calling the function\n",
    "\n",
    "print(is_strong_password(\"WeakPwd\"))\n",
    "print(is_strong_password(\"Str0Pwd!\"))"
   ]
  },
  {
   "cell_type": "markdown",
   "id": "a9c01223",
   "metadata": {},
   "source": [
    "#### Example 3: Calculate the total cost of items in a shopping cart"
   ]
  },
  {
   "cell_type": "code",
   "execution_count": 1,
   "id": "51c393a5",
   "metadata": {},
   "outputs": [
    {
     "name": "stdout",
     "output_type": "stream",
     "text": [
      "5.8999999999999995\n"
     ]
    }
   ],
   "source": [
    "def calculate_toatal_cost(cart):\n",
    "    total_cost=0\n",
    "    for item in cart:\n",
    "        total_cost+= item['price']*item['quantity']\n",
    "        \n",
    "    return total_cost\n",
    "\n",
    "##Example cart data\n",
    "\n",
    "cart=[\n",
    "    {'name':\"Apple\",'price':0.5,'quantity':4},\n",
    "    {'name':\"Banana\",'price':0.3,'quantity':6},\n",
    "    {'name':\"Orange\",'price':0.7,'quantity':3}\n",
    "]\n",
    "\n",
    "\n",
    "##Calling the function\n",
    "\n",
    "print(calculate_toatal_cost(cart))"
   ]
  },
  {
   "cell_type": "markdown",
   "id": "61af842b",
   "metadata": {},
   "source": [
    "#### Example 4: Check if a string is Palindrome"
   ]
  },
  {
   "cell_type": "code",
   "execution_count": 2,
   "id": "22f3b433",
   "metadata": {},
   "outputs": [
    {
     "name": "stdout",
     "output_type": "stream",
     "text": [
      "True\n",
      "False\n"
     ]
    }
   ],
   "source": [
    "def is_palindrome(s):\n",
    "    s=s.lower().replace(\" \",\"\")\n",
    "    return s==s[::-1]\n",
    "\n",
    "print(is_palindrome(\"A man a plan a canal Panama\"))\n",
    "print(is_palindrome(\"Hello\"))"
   ]
  },
  {
   "cell_type": "markdown",
   "id": "0794830d",
   "metadata": {},
   "source": [
    "#### Example 5: Calculate the factorial of a number using recursion"
   ]
  },
  {
   "cell_type": "code",
   "execution_count": 3,
   "id": "9fb176ca",
   "metadata": {},
   "outputs": [
    {
     "name": "stdout",
     "output_type": "stream",
     "text": [
      "120\n"
     ]
    }
   ],
   "source": [
    "def factorial(n):\n",
    "    if n==0:\n",
    "        return 1\n",
    "    else:\n",
    "        return n * factorial(n-1)\n",
    "    \n",
    "print(factorial(5))"
   ]
  },
  {
   "cell_type": "markdown",
   "id": "b2b4e51f",
   "metadata": {},
   "source": [
    "#### Example 6: A function to read a file and count the frequency of each word"
   ]
  },
  {
   "cell_type": "code",
   "execution_count": 6,
   "id": "4d61af1e",
   "metadata": {},
   "outputs": [
    {
     "name": "stdout",
     "output_type": "stream",
     "text": [
      "{'hello': 1, 'world': 1, 'how': 1, 'are': 1, 'you': 1, 'my': 1, \"name's\": 1, 'equaan': 2}\n"
     ]
    }
   ],
   "source": [
    "def count_word_frequency(file_path):\n",
    "    word_count={}\n",
    "    with open(file_path,'r') as file:\n",
    "        for line in file:\n",
    "            words=line.split()\n",
    "            for word in words:\n",
    "                word=word.lower().strip('.,!?:;\"\\'')\n",
    "                word_count[word]=word_count.get(word,0)+1\n",
    "\n",
    "    return word_count\n",
    "\n",
    "filepath='sample.txt'\n",
    "word_frequency=count_word_frequency(filepath)\n",
    "print(word_frequency)            "
   ]
  },
  {
   "cell_type": "markdown",
   "id": "a82993c2",
   "metadata": {},
   "source": [
    "#### Example 7: Validate email address"
   ]
  },
  {
   "cell_type": "code",
   "execution_count": 10,
   "id": "07fd200d",
   "metadata": {},
   "outputs": [
    {
     "name": "stdout",
     "output_type": "stream",
     "text": [
      "True\n",
      "False\n"
     ]
    }
   ],
   "source": [
    "#Email validation function\n",
    "\n",
    "import re\n",
    "def is_valid_email(email):\n",
    "    \"\"\"This function checks if the email is valid\"\"\"\n",
    "    pattern= r'^[a-zA-Z0-9_.+-]+@[a-zA-Z0-9-]+\\.[a-zA-Z0-9-.]+$'\n",
    "    return re.match(pattern,email) is not None  \n",
    "\n",
    "#Calling the function \n",
    "print(is_valid_email(\"test@example.com\"))  #Output is True\n",
    "print(is_valid_email(\"invalid-email\"))  #Output is False\n",
    "\n",
    "\n"
   ]
  },
  {
   "cell_type": "code",
   "execution_count": null,
   "id": "dd12ea5c",
   "metadata": {},
   "outputs": [],
   "source": []
  }
 ],
 "metadata": {
  "kernelspec": {
   "display_name": ".venv",
   "language": "python",
   "name": "python3"
  },
  "language_info": {
   "codemirror_mode": {
    "name": "ipython",
    "version": 3
   },
   "file_extension": ".py",
   "mimetype": "text/x-python",
   "name": "python",
   "nbconvert_exporter": "python",
   "pygments_lexer": "ipython3",
   "version": "3.12.4"
  }
 },
 "nbformat": 4,
 "nbformat_minor": 5
}
