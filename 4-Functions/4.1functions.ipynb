{
 "cells": [
  {
   "cell_type": "markdown",
   "id": "390e06ae",
   "metadata": {},
   "source": [
    "#### Introduction to functions"
   ]
  },
  {
   "cell_type": "markdown",
   "id": "17b6bf9e",
   "metadata": {},
   "source": [
    "Defination:\n",
    "\n",
    "A function is a block of code which performs a specific task. Functions help in organizing code, reusing code, and improve readibility."
   ]
  },
  {
   "cell_type": "code",
   "execution_count": 2,
   "id": "80d911af",
   "metadata": {},
   "outputs": [],
   "source": [
    "## syntax\n",
    "def function_name(parameters):\n",
    "    \"\"\"Docstirng\"\"\"\n",
    "    #Function body\n",
    "    return expression\n",
    " "
   ]
  },
  {
   "cell_type": "code",
   "execution_count": 4,
   "id": "fd31cab8",
   "metadata": {},
   "outputs": [
    {
     "name": "stdout",
     "output_type": "stream",
     "text": [
      "THe number is even\n"
     ]
    }
   ],
   "source": [
    "##why functions?\n",
    "\n",
    "num=24\n",
    "if num%2==0:\n",
    "    print(\"THe number is even\")\n",
    "else :\n",
    "    print(\"THe number is oddd\")"
   ]
  },
  {
   "cell_type": "code",
   "execution_count": 5,
   "id": "e88b281b",
   "metadata": {},
   "outputs": [],
   "source": [
    "def even_or_odd(num):\n",
    "    \"\"\"This functions finds even or odd number\"\"\"\n",
    "    if num%2==0:\n",
    "        print(\"The number is even\")\n",
    "    else:\n",
    "        print(\"The number is odd\")\n"
   ]
  },
  {
   "cell_type": "code",
   "execution_count": 7,
   "id": "7d6bbbdd",
   "metadata": {},
   "outputs": [
    {
     "name": "stdout",
     "output_type": "stream",
     "text": [
      "The number is odd\n"
     ]
    }
   ],
   "source": [
    "##Calling this function\n",
    "\n",
    "even_or_odd(23)"
   ]
  },
  {
   "cell_type": "code",
   "execution_count": 8,
   "id": "b7dd76a0",
   "metadata": {},
   "outputs": [
    {
     "name": "stdout",
     "output_type": "stream",
     "text": [
      "6\n"
     ]
    }
   ],
   "source": [
    "##Function with multiple parameters\n",
    "\n",
    "def add(a,b):\n",
    "    return a+b\n",
    "\n",
    "\n",
    "result=add(2,4)\n",
    "print(result)"
   ]
  },
  {
   "cell_type": "code",
   "execution_count": 9,
   "id": "e32bf98b",
   "metadata": {},
   "outputs": [
    {
     "name": "stdout",
     "output_type": "stream",
     "text": [
      "Hello Equaan welcome to the Paradise\n"
     ]
    }
   ],
   "source": [
    "##Default parameters\n",
    "\n",
    "def greet(name):\n",
    "    print(f\"Hello {name} welcome to the Paradise\")\n",
    "\n",
    "greet(\"Equaan\")"
   ]
  },
  {
   "cell_type": "code",
   "execution_count": 11,
   "id": "d436f61b",
   "metadata": {},
   "outputs": [
    {
     "name": "stdout",
     "output_type": "stream",
     "text": [
      "Hello Equaan welcome to the Paradise\n"
     ]
    }
   ],
   "source": [
    "def greet(name=\"Guest\"):\n",
    "    print(f\"Hello {name} welcome to the Paradise\")\n",
    "\n",
    "greet(\"Equaan\")"
   ]
  },
  {
   "cell_type": "code",
   "execution_count": null,
   "id": "5389babb",
   "metadata": {},
   "outputs": [],
   "source": [
    "##Variable Length Arguments\n",
    "##Positional and Keywords argument\n",
    "\n",
    "\n",
    "##Positional arguements\n",
    "def print_numbers(*args):\n",
    "    for nnumbers in args:\n",
    "        print(nnumbers)\n",
    "\n"
   ]
  },
  {
   "cell_type": "code",
   "execution_count": 13,
   "id": "2be62dfc",
   "metadata": {},
   "outputs": [
    {
     "name": "stdout",
     "output_type": "stream",
     "text": [
      "1\n",
      "2\n",
      "3\n",
      "4\n",
      "5\n",
      "6\n",
      "7\n",
      "8\n",
      "equaan\n"
     ]
    }
   ],
   "source": [
    "print_numbers(1,2,3,4,5,6,7,8,\"equaan\")"
   ]
  },
  {
   "cell_type": "code",
   "execution_count": 16,
   "id": "f63d9906",
   "metadata": {},
   "outputs": [],
   "source": [
    "##Keywords Arguments\n",
    "\n",
    "def print_details(**kwargs):\n",
    "    for key,value in kwargs.items():\n",
    "        print(f\"{key}:{value}\")\n",
    "\n",
    "\n"
   ]
  },
  {
   "cell_type": "code",
   "execution_count": 17,
   "id": "668b2104",
   "metadata": {},
   "outputs": [
    {
     "name": "stdout",
     "output_type": "stream",
     "text": [
      "name:equaan\n",
      "age:21\n",
      "country:India\n"
     ]
    }
   ],
   "source": [
    "print_details(name=\"equaan\", age=\"21\", country=\"India\")"
   ]
  },
  {
   "cell_type": "code",
   "execution_count": 22,
   "id": "2cece666",
   "metadata": {},
   "outputs": [],
   "source": [
    "def print_detail(*args,**kwargs):\n",
    "    for val in args:\n",
    "        print(f\"Positional arguement:{val}\")\n",
    "    for key,value in kwargs.items():\n",
    "        print(f\"{key}:{value}\")\n"
   ]
  },
  {
   "cell_type": "code",
   "execution_count": 23,
   "id": "6cc50c33",
   "metadata": {},
   "outputs": [
    {
     "name": "stdout",
     "output_type": "stream",
     "text": [
      "Positional arguement:1\n",
      "Positional arguement:2\n",
      "Positional arguement:3\n",
      "Positional arguement:4\n",
      "Positional arguement:5\n",
      "Positional arguement:equaan\n",
      "name:equaan\n",
      "age:21\n",
      "country:India\n"
     ]
    }
   ],
   "source": [
    "print_detail(1,2,3,4,5,\"equaan\",name=\"equaan\", age=\"21\", country=\"India\")"
   ]
  },
  {
   "cell_type": "code",
   "execution_count": 27,
   "id": "8e572bb6",
   "metadata": {},
   "outputs": [
    {
     "data": {
      "text/plain": [
       "6"
      ]
     },
     "execution_count": 27,
     "metadata": {},
     "output_type": "execute_result"
    }
   ],
   "source": [
    "##Return statement\n",
    "\n",
    "def multiply(a,b):\n",
    "    return a*b\n",
    "\n",
    "multiply(2,3)"
   ]
  },
  {
   "cell_type": "code",
   "execution_count": 26,
   "id": "73248ba0",
   "metadata": {},
   "outputs": [
    {
     "data": {
      "text/plain": [
       "(6, 2)"
      ]
     },
     "execution_count": 26,
     "metadata": {},
     "output_type": "execute_result"
    }
   ],
   "source": [
    "##Return multiple statements\n",
    "def multiply(a,b):\n",
    "    return a*b,a\n",
    "\n",
    "multiply(2,3)"
   ]
  },
  {
   "cell_type": "code",
   "execution_count": null,
   "id": "2a6b8688",
   "metadata": {},
   "outputs": [],
   "source": []
  }
 ],
 "metadata": {
  "kernelspec": {
   "display_name": "Python 3",
   "language": "python",
   "name": "python3"
  },
  "language_info": {
   "codemirror_mode": {
    "name": "ipython",
    "version": 3
   },
   "file_extension": ".py",
   "mimetype": "text/x-python",
   "name": "python",
   "nbconvert_exporter": "python",
   "pygments_lexer": "ipython3",
   "version": "3.13.0"
  }
 },
 "nbformat": 4,
 "nbformat_minor": 5
}
