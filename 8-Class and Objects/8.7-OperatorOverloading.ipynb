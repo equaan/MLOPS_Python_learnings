{
 "cells": [
  {
   "cell_type": "markdown",
   "id": "75b20ebf",
   "metadata": {},
   "source": [
    "## Operator Overloading\n",
    "\n",
    "Operator overloading allows you to define the behaviour of operators (+,-,*,etc.) for custom objects. You can achieve this by overridig specific magic mehtods in your class."
   ]
  },
  {
   "cell_type": "markdown",
   "id": "4f9a777d",
   "metadata": {},
   "source": []
  },
  {
   "cell_type": "code",
   "execution_count": 2,
   "id": "b82081db",
   "metadata": {},
   "outputs": [
    {
     "data": {
      "text/plain": [
       "'\\n__add__(self,other): Adds two objects using the + operator.\\n__sub__(self,other): Subtracts two objects using the - operator.\\n__mul__(self,other): Multiplies two objects using the * operator.\\n__truediv__(self,other): Divides two objects using the / operator.\\n__eq__(self,other): Checks if two objects are equal using the == operator.\\n__lt__(self,other): Checks if one object is less then another using the < operator.\\n__gt__(self,other): Checks of one object is greater than another using the > operator.\\n'"
      ]
     },
     "execution_count": 2,
     "metadata": {},
     "output_type": "execute_result"
    }
   ],
   "source": [
    "## Common Operator Overloading Magic Methods\n",
    "\n",
    "'''\n",
    "__add__(self,other): Adds two objects using the + operator.\n",
    "__sub__(self,other): Subtracts two objects using the - operator.\n",
    "__mul__(self,other): Multiplies two objects using the * operator.\n",
    "__truediv__(self,other): Divides two objects using the / operator.\n",
    "__eq__(self,other): Checks if two objects are equal using the == operator.\n",
    "__lt__(self,other): Checks if one object is less then another using the < operator.\n",
    "__gt__(self,other): Checks of one object is greater than another using the > operator.\n",
    "'''"
   ]
  },
  {
   "cell_type": "code",
   "execution_count": 11,
   "id": "6065eaa8",
   "metadata": {},
   "outputs": [
    {
     "name": "stdout",
     "output_type": "stream",
     "text": [
      "Vector(6,8)\n",
      "Vector(-2,-2)\n",
      "Vector(8,15)\n",
      "False\n",
      "True\n"
     ]
    }
   ],
   "source": [
    "##Mathematical operations for vectors\n",
    "class Vector:\n",
    "    def __init__(self,x,y):\n",
    "        self.x=x\n",
    "        self.y=y\n",
    "\n",
    "    def __add__(self,other):\n",
    "        return Vector(self.x + other.x, self.y + other.y)\n",
    "    def __sub__(self,other):\n",
    "        return Vector(self.x - other.x, self.y - other.y)\n",
    "    def __mul__(self,other):\n",
    "        return Vector(self.x * other.x, self.y * other.y)\n",
    "    def __eq__(self,other):\n",
    "        return self.x == other.x and self.y == other.y\n",
    "    \n",
    "    def __repr__(self):\n",
    "        return f\"Vector({self.x},{self.y})\"\n",
    "    \n",
    "##create objects of vector class\n",
    "v1=Vector(2,3)\n",
    "v2=Vector(4,5)\n",
    "\n",
    "print(v1 + v2) # Vector(6,8)\n",
    "print(v1 - v2) # Vector(-2,-2)\n",
    "print(v1 * v2) # Vector(8,15)\n",
    "print(v1 == v2) # False\n",
    "print(v1 == Vector(2,3)) # True, this is basically checking the values of x and y"
   ]
  },
  {
   "cell_type": "code",
   "execution_count": null,
   "id": "0289b082",
   "metadata": {},
   "outputs": [
    {
     "name": "stdout",
     "output_type": "stream",
     "text": [
      "3 + 7i\n",
      "1 + -1i\n",
      "-10 + 11i\n",
      "0.8235294117647058 + -0.29411764705882354i\n",
      "False\n",
      "True\n"
     ]
    }
   ],
   "source": [
    "##Overloading operators for complex numbers\n",
    "\n",
    "class Complex:\n",
    "    def __init__(self,real,imag):\n",
    "        self.real=real\n",
    "        self.imag=imag\n",
    "    \n",
    "    def __add__(self,other):\n",
    "        return Complex(self.real + other.real, self.imag + other.imag)\n",
    "    \n",
    "    def __sub__(self,other):\n",
    "        return Complex(self.real - other.real, self.imag - other.imag)\n",
    "    \n",
    "    #solve this on paper\n",
    "    def __mul__(self,other):\n",
    "        real_part = self.real * other.real - self.imag * other.imag\n",
    "        imag_part = self.real * other.imag + self.imag * other.real\n",
    "        return Complex(real_part, imag_part)\n",
    "    \n",
    "    #solve this on paper\n",
    "    def __truediv__(self,other):\n",
    "        denominator = other.real**2 + other.imag**2\n",
    "        real_part=(self.real * other.real + self.imag *  other.imag) / denominator\n",
    "        imag_part=(self.imag * other.real - self.real * other.imag) / denominator\n",
    "        return Complex(real_part, imag_part)\n",
    "\n",
    "    def __eq__(self,other):\n",
    "        return self.real == other.real and self.imag == other.imag\n",
    "\n",
    "    def __repr__(self):\n",
    "        return f\"{self.real} + {self.imag}i\"    \n",
    "    \n",
    "##create objects of complex class\n",
    "c1=Complex(2,3)\n",
    "c2=Complex(1,4)\n",
    "\n",
    "#use overloaded operators\n",
    "print(c1 + c2) # 3 + 7i\n",
    "print(c1 - c2) # 1-i\n",
    "print(c1 * c2) # -10 + 11i\n",
    "print(c1 / c2) #0.76 - 0.52i\n",
    "print(c1 == c2) #False\n",
    "print(c1 == Complex(2,3)) #True  "
   ]
  },
  {
   "cell_type": "code",
   "execution_count": null,
   "id": "9b84926b",
   "metadata": {},
   "outputs": [],
   "source": []
  }
 ],
 "metadata": {
  "kernelspec": {
   "display_name": ".venv",
   "language": "python",
   "name": "python3"
  },
  "language_info": {
   "codemirror_mode": {
    "name": "ipython",
    "version": 3
   },
   "file_extension": ".py",
   "mimetype": "text/x-python",
   "name": "python",
   "nbconvert_exporter": "python",
   "pygments_lexer": "ipython3",
   "version": "3.12.4"
  }
 },
 "nbformat": 4,
 "nbformat_minor": 5
}
