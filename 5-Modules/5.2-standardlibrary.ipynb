{
 "cells": [
  {
   "cell_type": "markdown",
   "id": "05feca4d",
   "metadata": {},
   "source": [
    "#### Standard Library Overview\n",
    "\n",
    "Python's standard Library is a vast collection of modules and packages that come bundled wiht Python, providing a wide range of functionalities out of the box. Here's an overview of some of the most commonly used modules and packaages in the Python Standard Library"
   ]
  },
  {
   "cell_type": "code",
   "execution_count": 1,
   "id": "dab100a6",
   "metadata": {},
   "outputs": [
    {
     "name": "stdout",
     "output_type": "stream",
     "text": [
      "array('i', [1, 2, 3, 4])\n"
     ]
    }
   ],
   "source": [
    "import array\n",
    "arr=array.array('i',[1,2,3,4])\n",
    "print(arr)"
   ]
  },
  {
   "cell_type": "code",
   "execution_count": 1,
   "id": "7ffd3ae2",
   "metadata": {},
   "outputs": [
    {
     "name": "stdout",
     "output_type": "stream",
     "text": [
      "4.0\n",
      "3.141592653589793\n"
     ]
    }
   ],
   "source": [
    "import math\n",
    "print(math.sqrt(16))\n",
    "print(math.pi)"
   ]
  },
  {
   "cell_type": "code",
   "execution_count": 4,
   "id": "6e1ab0f7",
   "metadata": {},
   "outputs": [
    {
     "name": "stdout",
     "output_type": "stream",
     "text": [
      "2\n",
      "apple\n"
     ]
    }
   ],
   "source": [
    "##random\n",
    "\n",
    "import random\n",
    "print(random.randint(1,10))\n",
    "print(random.choice([\"apple\",'cherry','banana']))"
   ]
  },
  {
   "cell_type": "code",
   "execution_count": 6,
   "id": "3b05dae8",
   "metadata": {},
   "outputs": [
    {
     "name": "stdout",
     "output_type": "stream",
     "text": [
      "c:\\Users\\MOHAMMAD EQUAAN\\Desktop\\MLOPS\\1-python\\5-Modules\n"
     ]
    }
   ],
   "source": [
    "##File and directory Access\n",
    "\n",
    "import os \n",
    "print(os.getcwd()) #get current working directory (cwd)"
   ]
  },
  {
   "cell_type": "code",
   "execution_count": 9,
   "id": "86014d78",
   "metadata": {},
   "outputs": [],
   "source": [
    "os.mkdir('test_dir')"
   ]
  },
  {
   "cell_type": "code",
   "execution_count": 12,
   "id": "046f8a62",
   "metadata": {},
   "outputs": [
    {
     "data": {
      "text/plain": [
       "'destination.txt'"
      ]
     },
     "execution_count": 12,
     "metadata": {},
     "output_type": "execute_result"
    }
   ],
   "source": [
    "##High level operations on files and collections of files\n",
    "\n",
    "import shutil\n",
    "shutil.copyfile('source.txt','destination.txt')"
   ]
  },
  {
   "cell_type": "code",
   "execution_count": 14,
   "id": "f7c5bb77",
   "metadata": {},
   "outputs": [
    {
     "name": "stdout",
     "output_type": "stream",
     "text": [
      "{\"name\": \"Equaan\", \"age\": 21}\n",
      "<class 'str'>\n",
      "{'name': 'Equaan', 'age': 21}\n",
      "<class 'dict'>\n"
     ]
    }
   ],
   "source": [
    "## Data serialization\n",
    "#when we retrive data from api or nosql db, the response will always be in JSON\n",
    "\n",
    "import json\n",
    "data={'name':'Equaan','age':21}\n",
    "\n",
    "json_str=json.dumps(data)  ##converts dict data into string and from api, we get in string \n",
    "print(json_str)\n",
    "print(type(json_str))\n",
    "\n",
    "parsed_data=json.loads(json_str) ##Convert back to dict as it was before\n",
    "print(parsed_data)\n",
    "print(type(parsed_data))"
   ]
  },
  {
   "cell_type": "code",
   "execution_count": 16,
   "id": "9ad4fdbe",
   "metadata": {},
   "outputs": [
    {
     "name": "stdout",
     "output_type": "stream",
     "text": [
      "['name', 'age']\n",
      "['Equaan', '21']\n"
     ]
    }
   ],
   "source": [
    "## csv\n",
    "\n",
    "import csv\n",
    "\n",
    "with open('example.csv',mode='w',newline='') as file:\n",
    "    writer=csv.writer(file)\n",
    "    writer.writerow(['name','age'])\n",
    "    writer.writerow(['Equaan',21])\n",
    "\n",
    "with open('example.csv',mode='r') as file:\n",
    "    reader=csv.reader(file)\n",
    "    for row in reader:\n",
    "        print(row)"
   ]
  },
  {
   "cell_type": "code",
   "execution_count": 17,
   "id": "c2f0ec13",
   "metadata": {},
   "outputs": [
    {
     "name": "stdout",
     "output_type": "stream",
     "text": [
      "2025-07-23 12:34:36.183358\n",
      "2025-07-22 12:34:36.183358\n"
     ]
    }
   ],
   "source": [
    "##datetime\n",
    "\n",
    "from datetime import datetime,timedelta\n",
    "\n",
    "now=datetime.now()\n",
    "print(now)\n",
    "\n",
    "yesterday=now-timedelta(days=1)\n",
    "print(yesterday)"
   ]
  },
  {
   "cell_type": "code",
   "execution_count": null,
   "id": "727d651f",
   "metadata": {},
   "outputs": [
    {
     "name": "stdout",
     "output_type": "stream",
     "text": [
      "1753254360.2534776\n",
      "1753254362.2542942\n"
     ]
    }
   ],
   "source": [
    "##time\n",
    "\n",
    "import time\n",
    "print(time.time()) ##gives current time\n",
    "\n",
    "time.sleep(2)  ##making it sleep for 2 secs\n",
    "print(time.time()) #then printing the time again"
   ]
  },
  {
   "cell_type": "code",
   "execution_count": null,
   "id": "4ea3b80e",
   "metadata": {},
   "outputs": [
    {
     "name": "stdout",
     "output_type": "stream",
     "text": [
      "123\n"
     ]
    }
   ],
   "source": [
    "## Regular expression\n",
    "\n",
    "import re \n",
    "pattern=r'\\d+'  ##here d means digits\n",
    "text=\"There are 123 apples\"\n",
    "match=re.search(pattern,text)  ##here it searches for the pattern we declared in the text\n",
    "print(match.group())"
   ]
  },
  {
   "cell_type": "code",
   "execution_count": 21,
   "id": "24158238",
   "metadata": {},
   "outputs": [
    {
     "name": "stdout",
     "output_type": "stream",
     "text": [
      "123\n"
     ]
    }
   ],
   "source": [
    "import re \n",
    "pattern=r'\\d+'  \n",
    "text=\"There are 123 apples 456\"  ## Here it wont display 456 bcoz the searched stopped at 123\n",
    "match=re.search(pattern,text)  \n",
    "print(match.group())"
   ]
  },
  {
   "cell_type": "markdown",
   "id": "23755c70",
   "metadata": {},
   "source": [
    "#### Conclusion\n",
    "\n",
    "Pyhton's Standard Library is extensive and provides tools for almost any task you can think of, from file handeling to web services, from data serialization, to concurrent exectuion. familiarizing yourself with the modules and packages available in the Standard Library can significantly enhance your ability to write efficient and effective Python Programs."
   ]
  },
  {
   "cell_type": "code",
   "execution_count": null,
   "id": "28d8c27a",
   "metadata": {},
   "outputs": [],
   "source": []
  }
 ],
 "metadata": {
  "kernelspec": {
   "display_name": ".venv",
   "language": "python",
   "name": "python3"
  },
  "language_info": {
   "codemirror_mode": {
    "name": "ipython",
    "version": 3
   },
   "file_extension": ".py",
   "mimetype": "text/x-python",
   "name": "python",
   "nbconvert_exporter": "python",
   "pygments_lexer": "ipython3",
   "version": "3.12.4"
  }
 },
 "nbformat": 4,
 "nbformat_minor": 5
}
