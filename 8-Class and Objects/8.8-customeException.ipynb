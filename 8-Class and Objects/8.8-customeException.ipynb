{
 "cells": [
  {
   "cell_type": "markdown",
   "id": "3957f742",
   "metadata": {},
   "source": [
    "### Custom exception (Raise and Throw an exception)"
   ]
  },
  {
   "cell_type": "markdown",
   "id": "75ac63f3",
   "metadata": {},
   "source": []
  },
  {
   "cell_type": "code",
   "execution_count": 1,
   "id": "fec8fa31",
   "metadata": {},
   "outputs": [],
   "source": [
    "class Error(Exception):\n",
    "    pass\n",
    "\n",
    "class dobException(Error):\n",
    "    pass\n"
   ]
  },
  {
   "cell_type": "code",
   "execution_count": 4,
   "id": "7c5a9bcb",
   "metadata": {},
   "outputs": [
    {
     "name": "stdout",
     "output_type": "stream",
     "text": [
      "Sorry! you are not eligible to applu=y for the exam\n"
     ]
    }
   ],
   "source": [
    "year=int(input(\"Enter DOB\"))\n",
    "age=2025-year\n",
    "\n",
    "try:\n",
    "    if age<=30 and age>=20:\n",
    "        print(\"Your age is valid and you can apply for the exam\")\n",
    "    else:\n",
    "        raise dobException()\n",
    "    \n",
    "except dobException:\n",
    "    print(\"Sorry! you are not eligible to applu=y for the exam\")"
   ]
  },
  {
   "cell_type": "code",
   "execution_count": null,
   "id": "f0b08249",
   "metadata": {},
   "outputs": [],
   "source": []
  },
  {
   "cell_type": "code",
   "execution_count": null,
   "id": "dcba9546",
   "metadata": {},
   "outputs": [],
   "source": []
  }
 ],
 "metadata": {
  "kernelspec": {
   "display_name": ".venv",
   "language": "python",
   "name": "python3"
  },
  "language_info": {
   "codemirror_mode": {
    "name": "ipython",
    "version": 3
   },
   "file_extension": ".py",
   "mimetype": "text/x-python",
   "name": "python",
   "nbconvert_exporter": "python",
   "pygments_lexer": "ipython3",
   "version": "3.12.4"
  }
 },
 "nbformat": 4,
 "nbformat_minor": 5
}
