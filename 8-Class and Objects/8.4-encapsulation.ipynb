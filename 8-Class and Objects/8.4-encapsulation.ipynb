{
 "cells": [
  {
   "cell_type": "markdown",
   "id": "aceb491b",
   "metadata": {},
   "source": [
    "## Encapsulation and Abstraction\n",
    "\n",
    "Encapsulation and abstraction are two fundamental principles of Object-Oriented Programming(OOP) that help in designing robust, maintainable, and reusable code. Encapsulation involves bundling data and methods that operate on the data within a single unit, while abstraction involves hiding complex implementation details and exposing only the necessary features."
   ]
  },
  {
   "cell_type": "markdown",
   "id": "1b1fc1be",
   "metadata": {},
   "source": [
    "## Encapsulation\n",
    "\n",
    "Enchapsulation is the concept of wrapping ddata (variables) and methods (functions) together as a single unit. It restricts direct access to some of the object's comeponents, which is a means of preventing accidental interference and misuse of the data."
   ]
  },
  {
   "cell_type": "code",
   "execution_count": 3,
   "id": "7873c7ec",
   "metadata": {},
   "outputs": [
    {
     "name": "stdout",
     "output_type": "stream",
     "text": [
      "Equaan\n"
     ]
    }
   ],
   "source": [
    "## Encapsulation with Getter and Setter Methods\n",
    "## public, protected and private variables or access modifiers\n",
    "\n",
    "class Person:\n",
    "    def __init__(self,name,age):\n",
    "        self.name=name   ##public variable\n",
    "        self.age=age     ##public variable (which means i can call this variable from outside of the class like below)\n",
    "         \n",
    "person=Person(\"Equaan\",21)\n",
    "print(person.name)"
   ]
  },
  {
   "cell_type": "code",
   "execution_count": 8,
   "id": "b4c52447",
   "metadata": {},
   "outputs": [
    {
     "data": {
      "text/plain": [
       "['__class__',\n",
       " '__delattr__',\n",
       " '__dict__',\n",
       " '__dir__',\n",
       " '__doc__',\n",
       " '__eq__',\n",
       " '__format__',\n",
       " '__ge__',\n",
       " '__getattribute__',\n",
       " '__getstate__',\n",
       " '__gt__',\n",
       " '__hash__',\n",
       " '__init__',\n",
       " '__init_subclass__',\n",
       " '__le__',\n",
       " '__lt__',\n",
       " '__module__',\n",
       " '__ne__',\n",
       " '__new__',\n",
       " '__reduce__',\n",
       " '__reduce_ex__',\n",
       " '__repr__',\n",
       " '__setattr__',\n",
       " '__sizeof__',\n",
       " '__str__',\n",
       " '__subclasshook__',\n",
       " '__weakref__',\n",
       " 'age',\n",
       " 'name']"
      ]
     },
     "execution_count": 8,
     "metadata": {},
     "output_type": "execute_result"
    }
   ],
   "source": [
    "dir(person)\n",
    "##we can see 'name' and 'age' as public variables in the directory.."
   ]
  },
  {
   "cell_type": "code",
   "execution_count": 16,
   "id": "a6ae1d24",
   "metadata": {},
   "outputs": [],
   "source": [
    "##NOW\n",
    "\n",
    "class Person:\n",
    "    def __init__(self,name,age,gender):\n",
    "        self.__name=name  ##private variable\n",
    "        self.__age=age    ##private variable\n",
    "        self.gender=gender  ##public variable\n",
    "\n",
    "def get_name(person):\n",
    "    return person.__name"
   ]
  },
  {
   "cell_type": "code",
   "execution_count": 15,
   "id": "6792a0f0",
   "metadata": {},
   "outputs": [
    {
     "data": {
      "text/plain": [
       "['_Person__age',\n",
       " '_Person__name',\n",
       " '__class__',\n",
       " '__delattr__',\n",
       " '__dict__',\n",
       " '__dir__',\n",
       " '__doc__',\n",
       " '__eq__',\n",
       " '__format__',\n",
       " '__ge__',\n",
       " '__getattribute__',\n",
       " '__getstate__',\n",
       " '__gt__',\n",
       " '__hash__',\n",
       " '__init__',\n",
       " '__init_subclass__',\n",
       " '__le__',\n",
       " '__lt__',\n",
       " '__module__',\n",
       " '__ne__',\n",
       " '__new__',\n",
       " '__reduce__',\n",
       " '__reduce_ex__',\n",
       " '__repr__',\n",
       " '__setattr__',\n",
       " '__sizeof__',\n",
       " '__str__',\n",
       " '__subclasshook__',\n",
       " '__weakref__',\n",
       " 'gender']"
      ]
     },
     "execution_count": 15,
     "metadata": {},
     "output_type": "execute_result"
    }
   ],
   "source": [
    "person=Person(\"Equaan\",21,\"Male\")\n",
    "dir(person)\n",
    "##here the gender is displayed directly at the bottom but age and name are displayed like the first two\n",
    "## _Person__age and _Person__name ..."
   ]
  },
  {
   "cell_type": "code",
   "execution_count": 18,
   "id": "9a5c0f77",
   "metadata": {},
   "outputs": [
    {
     "ename": "TypeError",
     "evalue": "get_name() missing 1 required positional argument: 'person'",
     "output_type": "error",
     "traceback": [
      "\u001b[31m---------------------------------------------------------------------------\u001b[39m",
      "\u001b[31mTypeError\u001b[39m                                 Traceback (most recent call last)",
      "\u001b[36mCell\u001b[39m\u001b[36m \u001b[39m\u001b[32mIn[18]\u001b[39m\u001b[32m, line 4\u001b[39m\n\u001b[32m      1\u001b[39m \u001b[38;5;66;03m##and if we create a get_name function and call it?\u001b[39;00m\n\u001b[32m      3\u001b[39m person=Person(\u001b[33m\"\u001b[39m\u001b[33mEquaan\u001b[39m\u001b[33m\"\u001b[39m,\u001b[32m21\u001b[39m,\u001b[33m\"\u001b[39m\u001b[33mMale\u001b[39m\u001b[33m\"\u001b[39m)\n\u001b[32m----> \u001b[39m\u001b[32m4\u001b[39m \u001b[43mget_name\u001b[49m\u001b[43m(\u001b[49m\u001b[43m)\u001b[49m\n\u001b[32m      6\u001b[39m \u001b[38;5;66;03m##we get error because there is no attribute as __name  coz it is saved as _Person__name in the directory...\u001b[39;00m\n",
      "\u001b[31mTypeError\u001b[39m: get_name() missing 1 required positional argument: 'person'"
     ]
    }
   ],
   "source": [
    "##and if we create a get_name function and call it?\n",
    "\n",
    "person=Person(\"Equaan\",21,\"Male\")\n",
    "get_name()\n",
    "\n",
    "##we get error because there is no attribute as __name  coz it is saved as _Person__name in the directory..."
   ]
  },
  {
   "cell_type": "code",
   "execution_count": 22,
   "id": "d8bf3933",
   "metadata": {},
   "outputs": [
    {
     "name": "stdout",
     "output_type": "stream",
     "text": [
      "Equaan\n"
     ]
    }
   ],
   "source": [
    "## Private variable is something which you cannot access outside the class, even we have derived calss,\n",
    "## it cannot be accessed.\n",
    "\n",
    "##protected varibale\n",
    "##protected says that we cannot access it outside the class but can access it from derived class\n",
    "\n",
    "class Person:\n",
    "    def __init__(self,name,age,gender):\n",
    "        self._name=name    ##Protected variable\n",
    "        self._age=age      ##Protected variable\n",
    "        self.gender=gender \n",
    "\n",
    "class Employee(Person):\n",
    "    def __init__(self,name,age,gender):\n",
    "        super().__init__(name,age,gender)\n",
    "\n",
    "employee=Employee(\"Equaan\",21,\"Male\")\n",
    "print(employee._name)\n",
    "\n"
   ]
  },
  {
   "cell_type": "code",
   "execution_count": 27,
   "id": "62a0bf2a",
   "metadata": {},
   "outputs": [
    {
     "name": "stdout",
     "output_type": "stream",
     "text": [
      "Equaan\n",
      "21\n",
      "25\n",
      "Age cannot be negative\n"
     ]
    }
   ],
   "source": [
    "##Encapsulationn with Getter and Setter\n",
    "\n",
    "class Person:\n",
    "    def __init__(self,name,age):\n",
    "        self.__name=name  ##private access modifier or variable\n",
    "        self.__age=age    ##Private Variable\n",
    "\n",
    "\n",
    "    ##getter method for name\n",
    "    def get_name(self):   ##here we are not showing the world about the __name (private variable) but a method they\n",
    "        return self.__name  ##can use to see the output\n",
    "    \n",
    "    ##setter method for name\n",
    "    def set_name(self,name):\n",
    "        self.__name=name\n",
    "\n",
    "    ##Getter method for age\n",
    "    def get_age(self):\n",
    "        return self.__age\n",
    "    \n",
    "    ##Setter method for age\n",
    "    def set_age(self,age):\n",
    "        if age>0:\n",
    "            self.__age=age\n",
    "        else:\n",
    "            print(\"Age cannot be negative\")\n",
    "\n",
    "\n",
    "person=Person(\"Equaan\",21)\n",
    "\n",
    "#Access and modify private varibales using getter and setter\n",
    "\n",
    "print(person.get_name())\n",
    "print(person.get_age())\n",
    "\n",
    "person.set_age(25)\n",
    "print(person.get_age())\n",
    "\n",
    "person.set_age(-5)\n"
   ]
  },
  {
   "cell_type": "code",
   "execution_count": 31,
   "id": "225543b1",
   "metadata": {},
   "outputs": [
    {
     "data": {
      "text/plain": [
       "['_People__age',\n",
       " '__class__',\n",
       " '__delattr__',\n",
       " '__dict__',\n",
       " '__dir__',\n",
       " '__doc__',\n",
       " '__eq__',\n",
       " '__format__',\n",
       " '__ge__',\n",
       " '__getattribute__',\n",
       " '__getstate__',\n",
       " '__gt__',\n",
       " '__hash__',\n",
       " '__init__',\n",
       " '__init_subclass__',\n",
       " '__le__',\n",
       " '__lt__',\n",
       " '__module__',\n",
       " '__ne__',\n",
       " '__new__',\n",
       " '__reduce__',\n",
       " '__reduce_ex__',\n",
       " '__repr__',\n",
       " '__setattr__',\n",
       " '__sizeof__',\n",
       " '__str__',\n",
       " '__subclasshook__',\n",
       " '__weakref__',\n",
       " '_name',\n",
       " 'gender']"
      ]
     },
     "execution_count": 31,
     "metadata": {},
     "output_type": "execute_result"
    }
   ],
   "source": [
    "class People:\n",
    "    def __init__(self,name,age,gender):\n",
    "        self._name=name\n",
    "        self.__age=age\n",
    "        self.gender=gender\n",
    "\n",
    "people=People(\"Equaan\",21,\"Male\")\n",
    "dir(people)"
   ]
  },
  {
   "cell_type": "code",
   "execution_count": null,
   "id": "014175bc",
   "metadata": {},
   "outputs": [],
   "source": []
  }
 ],
 "metadata": {
  "kernelspec": {
   "display_name": ".venv",
   "language": "python",
   "name": "python3"
  },
  "language_info": {
   "codemirror_mode": {
    "name": "ipython",
    "version": 3
   },
   "file_extension": ".py",
   "mimetype": "text/x-python",
   "name": "python",
   "nbconvert_exporter": "python",
   "pygments_lexer": "ipython3",
   "version": "3.12.4"
  }
 },
 "nbformat": 4,
 "nbformat_minor": 5
}
