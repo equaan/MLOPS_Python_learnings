{
 "cells": [
  {
   "cell_type": "markdown",
   "id": "edf5046a",
   "metadata": {},
   "source": [
    "#### File Operations- Read and Write Files\n",
    "\n",
    "File handeling is a crucial part of any programming language. Python provides bilt-in functions and methods to read from and write to files, both text and binary.\n"
   ]
  },
  {
   "cell_type": "code",
   "execution_count": null,
   "id": "a2a0f6de",
   "metadata": {},
   "outputs": [
    {
     "name": "stdout",
     "output_type": "stream",
     "text": [
      "Hello how are you\n",
      "i'm fine\n",
      "my name's Equaan\n",
      "and we are having fun learning python from this course\n"
     ]
    }
   ],
   "source": [
    "## Read the whole file\n",
    "\n",
    "with open('example.txt','r') as file:  ##here we are using the read the mode so we can only read\n",
    "    content=file.read()\n",
    "    print(content)"
   ]
  },
  {
   "cell_type": "code",
   "execution_count": 3,
   "id": "9bd1e14a",
   "metadata": {},
   "outputs": [
    {
     "name": "stdout",
     "output_type": "stream",
     "text": [
      "Hello how are you\n",
      "\n",
      "i'm fine\n",
      "\n",
      "my name's Equaan\n",
      "\n",
      "and we are having fun learning python from this course\n"
     ]
    }
   ],
   "source": [
    "##Reading the file line by line\n",
    "\n",
    "with open('example.txt','r') as file:\n",
    "    for line in file:\n",
    "        print(line)"
   ]
  },
  {
   "cell_type": "code",
   "execution_count": null,
   "id": "c4d51829",
   "metadata": {},
   "outputs": [
    {
     "name": "stdout",
     "output_type": "stream",
     "text": [
      "Hello how are you\n",
      "i'm fine\n",
      "my name's Equaan\n",
      "and we are having fun learning python from this course\n"
     ]
    }
   ],
   "source": [
    "##if i wanna remove the spacing between the lines, we use .strip()\n",
    "with open('example.txt','r') as file:\n",
    "    for line in file:\n",
    "        print(line.strip())  ##strip() removes the new line character"
   ]
  },
  {
   "cell_type": "code",
   "execution_count": null,
   "id": "cb30de2b",
   "metadata": {},
   "outputs": [],
   "source": [
    "##Writing a file (Overwriting)\n",
    "\n",
    "with open('example.txt','w') as file:  ##so basically previous content was overwritten by this\n",
    "    file.write('Hollow Mellow!\\n')\n",
    "    file.write('This is the new line.')"
   ]
  },
  {
   "cell_type": "code",
   "execution_count": 6,
   "id": "0301d123",
   "metadata": {},
   "outputs": [],
   "source": [
    "with open ('ex-2.txt','w') as file:\n",
    "    file.write('Officer: Sir! How high are you?\\n')\n",
    "    file.write(\"Person: Officer you're wrong, it's HI HOW ARE YOU\")"
   ]
  },
  {
   "cell_type": "code",
   "execution_count": 9,
   "id": "c996772a",
   "metadata": {},
   "outputs": [
    {
     "name": "stdout",
     "output_type": "stream",
     "text": [
      "Officer: Sir! How high are you?\n",
      "Person: Officer you're wrong, it's HI HOW ARE YOU\n"
     ]
    }
   ],
   "source": [
    "with open('ex-2.txt','r') as file:\n",
    "    for line in file:\n",
    "        print(line.strip())"
   ]
  },
  {
   "cell_type": "code",
   "execution_count": 12,
   "id": "8d025728",
   "metadata": {},
   "outputs": [],
   "source": [
    "##write a file (but without overwriting)\n",
    "\n",
    "with open ('example.txt','a') as file:    ##Here we used a (apend) using this we can edit file\n",
    "    file.write(\"\\nAppend operation taking place :)\")"
   ]
  },
  {
   "cell_type": "code",
   "execution_count": null,
   "id": "ec0b093b",
   "metadata": {},
   "outputs": [],
   "source": [
    "##Writing a list of lines (multiple lines) to a file\n",
    "\n",
    "lines=['\\nFirst Line','\\nSecond Line','\\nThird Line']\n",
    "with open('example.txt','a') as file:\n",
    "    file.writelines(lines)  ##here we used writelines to insert multiple lines into the file"
   ]
  },
  {
   "cell_type": "code",
   "execution_count": 15,
   "id": "41baff77",
   "metadata": {},
   "outputs": [],
   "source": [
    "##Binary Files  (basically have extension as .bin)\n",
    "\n",
    "##writing to a binary file\n",
    "data=b'\\x00\\x01\\x02\\x03\\x04' #this is the data \n",
    "\n",
    "with open('example.bin','wb') as file:  #here we used wb (write byte)\n",
    "    file.write(data)\n",
    "\n"
   ]
  },
  {
   "cell_type": "code",
   "execution_count": 18,
   "id": "fc6a4f0a",
   "metadata": {},
   "outputs": [
    {
     "name": "stdout",
     "output_type": "stream",
     "text": [
      "b'\\x00\\x01\\x02\\x03\\x04'\n"
     ]
    }
   ],
   "source": [
    "##Reading the binary file\n",
    "with open('example.bin','rb') as file:  ##we used rb(read byte) to read the content\n",
    "    content=file.read()\n",
    "    print(content) "
   ]
  },
  {
   "cell_type": "code",
   "execution_count": 22,
   "id": "7f52f23a",
   "metadata": {},
   "outputs": [],
   "source": [
    "##Read the content from a source text file and write to a destination text file\n",
    "\n",
    "with open('example.txt','r') as source_file:\n",
    "    content=source_file.read()\n",
    "\n",
    "with open('destination_file.txt','w') as destination_file:\n",
    "    destination_file.write(content)"
   ]
  },
  {
   "cell_type": "code",
   "execution_count": 25,
   "id": "b0641707",
   "metadata": {},
   "outputs": [
    {
     "name": "stdout",
     "output_type": "stream",
     "text": [
      "the number of lines are: 6\n",
      "the number of words are: 18\n",
      "the number of characters is: 103\n"
     ]
    }
   ],
   "source": [
    "##Read a text file and count the number of lines, words, and characters.\n",
    "\n",
    "with open ('example.txt','r') as file:\n",
    "    lines= file.readlines()\n",
    "\n",
    "    line_count=len(lines)\n",
    "    word_count=sum(len(line.split()) for line in lines)\n",
    "    character_count=sum(len(line) for line in lines)\n",
    "    \n",
    "    print(f\"the number of lines are: {line_count}\")\n",
    "    print(f\"the number of words are: {word_count}\")\n",
    "    print(f\"the number of characters is: {character_count}\")"
   ]
  },
  {
   "cell_type": "markdown",
   "id": "fc42a91e",
   "metadata": {},
   "source": [
    "The w+ mode in Python is used to open a file for both reading and writing. If the file does not exist, it will be created. If the file exists, its content is truncated (i.e., the file is overwritten)"
   ]
  },
  {
   "cell_type": "code",
   "execution_count": 26,
   "id": "21dc5723",
   "metadata": {},
   "outputs": [
    {
     "name": "stdout",
     "output_type": "stream",
     "text": [
      "hollow world\n",
      "this is a mellow world\n",
      "this is the new line\n"
     ]
    }
   ],
   "source": [
    "##Writing and then reading the file\n",
    "\n",
    "with open('example.txt','w+') as file:\n",
    "    file.write('hollow world\\n')\n",
    "    file.write(\"this is a mellow world\\n\")\n",
    "    file.write(\"this is the new line\")\n",
    "\n",
    "    #moving cursor to the first line as of now it is at 3rd line\n",
    "    file.seek(0) #moves to the 0th index\n",
    "\n",
    "    #reading the content of the file\n",
    "    print(file.read())"
   ]
  },
  {
   "cell_type": "code",
   "execution_count": null,
   "id": "91374cf5",
   "metadata": {},
   "outputs": [],
   "source": []
  }
 ],
 "metadata": {
  "kernelspec": {
   "display_name": ".venv",
   "language": "python",
   "name": "python3"
  },
  "language_info": {
   "codemirror_mode": {
    "name": "ipython",
    "version": 3
   },
   "file_extension": ".py",
   "mimetype": "text/x-python",
   "name": "python",
   "nbconvert_exporter": "python",
   "pygments_lexer": "ipython3",
   "version": "3.12.4"
  }
 },
 "nbformat": 4,
 "nbformat_minor": 5
}
