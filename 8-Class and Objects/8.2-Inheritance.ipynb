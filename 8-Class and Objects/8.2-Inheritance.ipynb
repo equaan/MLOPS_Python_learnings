{
 "cells": [
  {
   "cell_type": "markdown",
   "id": "eaf67f61",
   "metadata": {},
   "source": [
    "## Inheritance In Python\n",
    "\n",
    "Inheritance is a fundamental concept in Object-Oriented Programming (oop) that allows a class to inherit attributes and methods from another class. In this session we will see single inheritance and multiple inheritance, demonstrating how to create them and use them in Pyhton."
   ]
  },
  {
   "cell_type": "code",
   "execution_count": 13,
   "id": "218bc785",
   "metadata": {},
   "outputs": [],
   "source": [
    "##Inheritance (single inheritance)\n",
    "\n",
    "##Parent class\n",
    "class Car:\n",
    "    def __init__(self,windows,doors,enginetype):\n",
    "        self.windows=windows\n",
    "        self.doors=doors\n",
    "        self.enginetype=enginetype\n",
    "\n",
    "    def drive(self):\n",
    "        print(f\"The person will drive the {self.enginetype} car \")"
   ]
  },
  {
   "cell_type": "code",
   "execution_count": 9,
   "id": "483c0062",
   "metadata": {},
   "outputs": [
    {
     "name": "stdout",
     "output_type": "stream",
     "text": [
      "The person will drive the petrol car \n"
     ]
    }
   ],
   "source": [
    "car1= Car(4,5,\"petrol\")\n",
    "car1.drive()"
   ]
  },
  {
   "cell_type": "code",
   "execution_count": 10,
   "id": "0ee733a6",
   "metadata": {},
   "outputs": [],
   "source": [
    "class Tesla(Car):   ##here tesla is a child class inheriting all the functions and poperties of the parent class Car()\n",
    "    \n",
    "    def __init__(self,windows,doors,enginetype,is_selfdriving):  \n",
    "        \n",
    "        super().__init__(windows,doors,enginetype)  ##here super means we are calling from parent class nd we're calling init fxn \n",
    "        self.is_selfdriving=is_selfdriving\n",
    "    \n",
    "    def selfdrive(self):\n",
    "        print(f\"Tesla Supports self driving: {self.is_selfdriving}\")\n"
   ]
  },
  {
   "cell_type": "code",
   "execution_count": 11,
   "id": "70328184",
   "metadata": {},
   "outputs": [
    {
     "name": "stdout",
     "output_type": "stream",
     "text": [
      "Tesla Supports self driving: True\n"
     ]
    }
   ],
   "source": [
    "tesla1=Tesla(4,5,\"electric\",\"True\")\n",
    "tesla1.selfdrive()"
   ]
  },
  {
   "cell_type": "code",
   "execution_count": 12,
   "id": "249107c1",
   "metadata": {},
   "outputs": [
    {
     "name": "stdout",
     "output_type": "stream",
     "text": [
      "The person will drive the electric car \n"
     ]
    }
   ],
   "source": [
    "tesla1.drive()"
   ]
  },
  {
   "cell_type": "code",
   "execution_count": 16,
   "id": "33933d52",
   "metadata": {},
   "outputs": [
    {
     "name": "stdout",
     "output_type": "stream",
     "text": [
      "Buddy says woof\n",
      "Owner:Krish\n"
     ]
    }
   ],
   "source": [
    "##(Multiple Inheritance)\n",
    "## When a class inherits from more than one base class.\n",
    "\n",
    "## BASE CLASS 1\n",
    "class Animal:\n",
    "    def __init__(self,name):\n",
    "        self.name=name\n",
    "    \n",
    "    def speak(self):\n",
    "        print(\"Subclass must implement this method\")\n",
    "\n",
    "\n",
    "# BASE CLASS 2\n",
    "class Pet:\n",
    "    def __init__(self,owner):\n",
    "        self.owner=owner\n",
    "\n",
    "##Derived Class\n",
    "class Dog(Animal,Pet):\n",
    "    def __init__(self,name,owner):\n",
    "        Animal.__init__(self,name)\n",
    "        Pet.__init__(self,owner)\n",
    "    \n",
    "    def speak(self):\n",
    "        return f\"{self.name} says woof\"\n",
    "\n",
    "\n",
    "##Create an object\n",
    "dog=Dog(\"Buddy\",\"Krish\")\n",
    "print(dog.speak())\n",
    "print(f\"Owner:{dog.owner}\")"
   ]
  },
  {
   "cell_type": "code",
   "execution_count": null,
   "id": "5feeb645",
   "metadata": {},
   "outputs": [],
   "source": []
  }
 ],
 "metadata": {
  "kernelspec": {
   "display_name": ".venv",
   "language": "python",
   "name": "python3"
  },
  "language_info": {
   "codemirror_mode": {
    "name": "ipython",
    "version": 3
   },
   "file_extension": ".py",
   "mimetype": "text/x-python",
   "name": "python",
   "nbconvert_exporter": "python",
   "pygments_lexer": "ipython3",
   "version": "3.12.4"
  }
 },
 "nbformat": 4,
 "nbformat_minor": 5
}
