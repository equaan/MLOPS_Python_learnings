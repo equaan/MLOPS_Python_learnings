{
 "cells": [
  {
   "cell_type": "markdown",
   "id": "92944c94",
   "metadata": {},
   "source": [
    "#### Understanding the Exceptions\n",
    "\n",
    "Exception handeling in Python allows you to handle errors gracefully and take corrective actions without stopping the execution of the program."
   ]
  },
  {
   "cell_type": "markdown",
   "id": "39f2e5d6",
   "metadata": {},
   "source": [
    "#### What are Exceptions?\n",
    "\n",
    "Exceptions are events that disrupts the normal flow of a program. They occur when an error is encountered during program execution. Common exceptions include:\n",
    "\n",
    "-> ZeroDivisionError: Dividing by Zero\n",
    "\n",
    "-> FileNotFoundError: File not found\n",
    "\n",
    "-> ValueError: Invalid value\n",
    "\n",
    "-> TypeError: Invalid Type"
   ]
  },
  {
   "cell_type": "markdown",
   "id": "2312d50e",
   "metadata": {},
   "source": []
  },
  {
   "cell_type": "code",
   "execution_count": 1,
   "id": "a8870939",
   "metadata": {},
   "outputs": [
    {
     "ename": "NameError",
     "evalue": "name 'b' is not defined",
     "output_type": "error",
     "traceback": [
      "\u001b[31m---------------------------------------------------------------------------\u001b[39m",
      "\u001b[31mNameError\u001b[39m                                 Traceback (most recent call last)",
      "\u001b[36mCell\u001b[39m\u001b[36m \u001b[39m\u001b[32mIn[1]\u001b[39m\u001b[32m, line 1\u001b[39m\n\u001b[32m----> \u001b[39m\u001b[32m1\u001b[39m a=\u001b[43mb\u001b[49m \n\u001b[32m      2\u001b[39m \u001b[38;5;66;03m##this will show me name error as name not defined\u001b[39;00m\n",
      "\u001b[31mNameError\u001b[39m: name 'b' is not defined"
     ]
    }
   ],
   "source": [
    "a=b \n",
    "##this will show me name error as name not defined"
   ]
  },
  {
   "cell_type": "code",
   "execution_count": 2,
   "id": "bfcb0ac2",
   "metadata": {},
   "outputs": [
    {
     "name": "stdout",
     "output_type": "stream",
     "text": [
      "The variable has not been assigned\n"
     ]
    }
   ],
   "source": [
    "##now we will handle this error using try, except block\n",
    "\n",
    "try:\n",
    "    a=b\n",
    "except:\n",
    "    print(\"The variable has not been assigned\")"
   ]
  },
  {
   "cell_type": "code",
   "execution_count": 3,
   "id": "2277af6a",
   "metadata": {},
   "outputs": [
    {
     "name": "stdout",
     "output_type": "stream",
     "text": [
      "name 'b' is not defined\n"
     ]
    }
   ],
   "source": [
    "##now we will display the same error msg as default\n",
    "\n",
    "try:\n",
    "    a=b \n",
    "except NameError as ex:\n",
    "    print(ex)"
   ]
  },
  {
   "cell_type": "code",
   "execution_count": 4,
   "id": "9060c99b",
   "metadata": {},
   "outputs": [
    {
     "ename": "ZeroDivisionError",
     "evalue": "division by zero",
     "output_type": "error",
     "traceback": [
      "\u001b[31m---------------------------------------------------------------------------\u001b[39m",
      "\u001b[31mZeroDivisionError\u001b[39m                         Traceback (most recent call last)",
      "\u001b[36mCell\u001b[39m\u001b[36m \u001b[39m\u001b[32mIn[4]\u001b[39m\u001b[32m, line 1\u001b[39m\n\u001b[32m----> \u001b[39m\u001b[32m1\u001b[39m result=\u001b[32;43m1\u001b[39;49m\u001b[43m/\u001b[49m\u001b[32;43m0\u001b[39;49m\n",
      "\u001b[31mZeroDivisionError\u001b[39m: division by zero"
     ]
    }
   ],
   "source": [
    "result=1/0"
   ]
  },
  {
   "cell_type": "code",
   "execution_count": 6,
   "id": "16e5344c",
   "metadata": {},
   "outputs": [
    {
     "name": "stdout",
     "output_type": "stream",
     "text": [
      "division by zero\n",
      "please enter the denominator greater than zero\n"
     ]
    }
   ],
   "source": [
    "try: \n",
    "    result=1/0\n",
    "except ZeroDivisionError as ex:\n",
    "    print(ex)\n",
    "    print(\"please enter the denominator greater than zero\")"
   ]
  },
  {
   "cell_type": "code",
   "execution_count": 10,
   "id": "58fc5566",
   "metadata": {},
   "outputs": [
    {
     "name": "stdout",
     "output_type": "stream",
     "text": [
      "name 'b' is not defined\n"
     ]
    }
   ],
   "source": [
    "##so if we write a=b here, this will show error and our handeling fails\n",
    "try: \n",
    "    result=1/2\n",
    "    a=b\n",
    "except ZeroDivisionError as ex:\n",
    "    print(ex)\n",
    "    print(\"please enter the denominator greater than zero\")\n",
    "\n",
    "##thats why we use parent class exception which as all the exceptions, like this:\n",
    "\n",
    "except Exception as ex1:\n",
    "    print(ex1)"
   ]
  },
  {
   "cell_type": "code",
   "execution_count": 14,
   "id": "b95ba9fe",
   "metadata": {},
   "outputs": [],
   "source": [
    "try:\n",
    "    num=int(input(\"Enter a number\"))\n",
    "    result=10/num\n",
    "except ValueError:\n",
    "    print(\"Please enter a valid number\")\n",
    "except ZeroDivisionError:\n",
    "    print(\"Enter denominator greater than 0\")\n",
    "except Exception as ex:\n",
    "    print(ex)"
   ]
  },
  {
   "cell_type": "code",
   "execution_count": 17,
   "id": "1e8ac38b",
   "metadata": {},
   "outputs": [
    {
     "name": "stdout",
     "output_type": "stream",
     "text": [
      "The result is: 0.5\n"
     ]
    }
   ],
   "source": [
    "##Now we will use else with try and except\n",
    "try:\n",
    "    num=int(input(\"Enter a number\"))\n",
    "    result=10/num\n",
    "except ValueError:\n",
    "    print(\"Please enter a valid number\")\n",
    "except ZeroDivisionError:\n",
    "    print(\"Enter denominator greater than 0\")\n",
    "except Exception as ex:\n",
    "    print(ex)\n",
    "else:                 ##if there's no exception, this has to be executed no  matter what\n",
    "    print(f\"The result is: {result}\")  "
   ]
  },
  {
   "cell_type": "code",
   "execution_count": 21,
   "id": "84c12c64",
   "metadata": {},
   "outputs": [
    {
     "name": "stdout",
     "output_type": "stream",
     "text": [
      "Please enter a valid number\n",
      "Execution Complete\n"
     ]
    }
   ],
   "source": [
    "##try,except,else and finally \n",
    "\n",
    "try:\n",
    "    num=int(input(\"Enter a number\"))\n",
    "    result=10/num\n",
    "except ValueError:\n",
    "    print(\"Please enter a valid number\")\n",
    "except ZeroDivisionError:\n",
    "    print(\"Enter denominator greater than 0\")\n",
    "except Exception as ex:\n",
    "    print(ex)\n",
    "else:                 #this gets executed only if error is not occured\n",
    "    print(f\"The result is: {result}\")\n",
    "finally:    ##but this gets executed everytime whether there is error or not\n",
    "    print(\"Execution Complete\")"
   ]
  },
  {
   "cell_type": "markdown",
   "id": "2110d0c0",
   "metadata": {},
   "source": [
    "#### REAL WORLD USECASE\n",
    "If we are establishing the connection from the database in the 'try' block and we are handeling the exceptions in the middle and if there is no exception so we're in the 'else' block and after the complete execution, we are using 'finally' block to end the connection."
   ]
  },
  {
   "cell_type": "code",
   "execution_count": 26,
   "id": "7c6147de",
   "metadata": {},
   "outputs": [
    {
     "name": "stdout",
     "output_type": "stream",
     "text": [
      "\n",
      "name 'b' is not defined\n",
      "File closed\n"
     ]
    }
   ],
   "source": [
    "##File handeling and Exception handleing\n",
    "\n",
    "try:\n",
    "    file=open('example1.txt','r') \n",
    "    content=file.read()\n",
    "    print(content)\n",
    "    a=b\n",
    "\n",
    "except FileNotFoundError:\n",
    "    print(\"Hey this file does not exist\")\n",
    "except Exception as ex:\n",
    "    print(ex)\n",
    "\n",
    "finally:\n",
    "    if 'file' in locals() and not file.closed:\n",
    "        file.close()\n",
    "        print(\"File closed\")\n"
   ]
  },
  {
   "cell_type": "code",
   "execution_count": null,
   "id": "a78e04fc",
   "metadata": {},
   "outputs": [],
   "source": []
  }
 ],
 "metadata": {
  "kernelspec": {
   "display_name": ".venv",
   "language": "python",
   "name": "python3"
  },
  "language_info": {
   "codemirror_mode": {
    "name": "ipython",
    "version": 3
   },
   "file_extension": ".py",
   "mimetype": "text/x-python",
   "name": "python",
   "nbconvert_exporter": "python",
   "pygments_lexer": "ipython3",
   "version": "3.12.4"
  }
 },
 "nbformat": 4,
 "nbformat_minor": 5
}
