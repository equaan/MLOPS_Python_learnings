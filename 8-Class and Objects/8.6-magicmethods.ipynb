{
 "cells": [
  {
   "cell_type": "markdown",
   "id": "0e28f11c",
   "metadata": {},
   "source": [
    "## Magic Methods\n",
    "\n",
    "Magic methods in Python, also known as dunder methods (double underscore methods), are special methods that start and end with double underscores. These methods enable you to define the behaviour of objects for built-in operations, such as arithmetic operations, comparisons, and more."
   ]
  },
  {
   "cell_type": "markdown",
   "id": "a160633a",
   "metadata": {},
   "source": [
    "### Magic Methods\n",
    "\n",
    "Magic methods are predefined methods in Python that you can override to change the behaviour of your objects. Some common magic methods include:"
   ]
  },
  {
   "cell_type": "markdown",
   "id": "be107b39",
   "metadata": {},
   "source": []
  },
  {
   "cell_type": "code",
   "execution_count": 1,
   "id": "d4ed03df",
   "metadata": {},
   "outputs": [
    {
     "data": {
      "text/plain": [
       "'\\n- __init__: Initializes a new instance of a class.\\n- __str__: Returns a string representation of an object.\\n- __repr__: Returns an official string representation of an object.\\n- __len__: Returns the length of an object.\\n- __getitem__: Get an item from a container.\\n- __setitem__: Sets an item in a container.\\n\\n'"
      ]
     },
     "execution_count": 1,
     "metadata": {},
     "output_type": "execute_result"
    }
   ],
   "source": [
    "'''\n",
    "- __init__: Initializes a new instance of a class.\n",
    "- __str__: Returns a string representation of an object.\n",
    "- __repr__: Returns an official string representation of an object.\n",
    "- __len__: Returns the length of an object.\n",
    "- __getitem__: Get an item from a container.\n",
    "- __setitem__: Sets an item in a container.\n",
    "\n",
    "'''"
   ]
  },
  {
   "cell_type": "code",
   "execution_count": 4,
   "id": "829d5fc5",
   "metadata": {},
   "outputs": [
    {
     "name": "stdout",
     "output_type": "stream",
     "text": [
      "['__class__', '__delattr__', '__dict__', '__dir__', '__doc__', '__eq__', '__format__', '__ge__', '__getattribute__', '__getstate__', '__gt__', '__hash__', '__init__', '__init_subclass__', '__le__', '__lt__', '__module__', '__ne__', '__new__', '__reduce__', '__reduce_ex__', '__repr__', '__setattr__', '__sizeof__', '__str__', '__subclasshook__', '__weakref__']\n",
      "\n",
      " These are all magic methods\n"
     ]
    }
   ],
   "source": [
    "class Person:\n",
    "    pass\n",
    "\n",
    "person=Person()\n",
    "print(dir(person))\n",
    "print(\"\\n These are all magic methods\")"
   ]
  },
  {
   "cell_type": "code",
   "execution_count": 6,
   "id": "6d806c7c",
   "metadata": {},
   "outputs": [
    {
     "name": "stdout",
     "output_type": "stream",
     "text": [
      "<__main__.Person object at 0x000001B7B648D400>\n"
     ]
    }
   ],
   "source": [
    "print(person) ##it is represented in this way coz of __str__ magic method..."
   ]
  },
  {
   "cell_type": "code",
   "execution_count": 7,
   "id": "8ae0aff5",
   "metadata": {},
   "outputs": [
    {
     "name": "stdout",
     "output_type": "stream",
     "text": [
      "<__main__.Person object at 0x000001B7B648ED80>\n"
     ]
    }
   ],
   "source": [
    "##Basic Magic Mehtods\n",
    "class Person:\n",
    "    def __init__(self,name,age):\n",
    "        self.name=name\n",
    "        self.age=age\n",
    "\n",
    "person=Person(\"Equaan\",21)\n",
    "print(person)"
   ]
  },
  {
   "cell_type": "code",
   "execution_count": 15,
   "id": "dac8b43b",
   "metadata": {},
   "outputs": [
    {
     "name": "stdout",
     "output_type": "stream",
     "text": [
      "Equaan,21 years old\n",
      "Person(name=Equaan, age=21)\n"
     ]
    }
   ],
   "source": [
    "##Now we will override the functionality of the __str__ method::\n",
    "\n",
    "class Person:\n",
    "    def __init__(self,name,age):\n",
    "        self.name=name\n",
    "        self.age=age\n",
    "\n",
    "    def __str__(self):\n",
    "        return f\"{self.name},{self.age} years old\"\n",
    "    \n",
    "    def __repr__(self):\n",
    "        return f\"Person(name={self.name}, age={self.age})\"\n",
    "    \n",
    "person=Person(\"Equaan\",21)\n",
    "print(person)\n",
    "print(repr(person))\n",
    "\n",
    "##before the default msg was this:<__main__.Person object at 0x000001B7B648ED80> i.e string representation of an object.\n",
    "##but now, it is returning the \"self.name and self.age years old\", which is our way of printing the message using __str__ method..\n"
   ]
  },
  {
   "cell_type": "code",
   "execution_count": null,
   "id": "93436f78",
   "metadata": {},
   "outputs": [],
   "source": []
  }
 ],
 "metadata": {
  "kernelspec": {
   "display_name": ".venv",
   "language": "python",
   "name": "python3"
  },
  "language_info": {
   "codemirror_mode": {
    "name": "ipython",
    "version": 3
   },
   "file_extension": ".py",
   "mimetype": "text/x-python",
   "name": "python",
   "nbconvert_exporter": "python",
   "pygments_lexer": "ipython3",
   "version": "3.12.4"
  }
 },
 "nbformat": 4,
 "nbformat_minor": 5
}
