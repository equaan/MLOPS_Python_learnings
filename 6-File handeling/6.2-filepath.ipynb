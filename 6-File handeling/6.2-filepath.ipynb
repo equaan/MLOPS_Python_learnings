{
 "cells": [
  {
   "cell_type": "code",
   "execution_count": null,
   "id": "e59beb1c",
   "metadata": {},
   "outputs": [
    {
     "name": "stdout",
     "output_type": "stream",
     "text": [
      "Directory 'package' created\n"
     ]
    }
   ],
   "source": [
    "##Creating a new directory\n",
    "import os\n",
    "new_directory='package'\n",
    "os.mkdir(new_directory)\n",
    "\n",
    "print(f\"Directory '{new_directory}' created\")"
   ]
  },
  {
   "cell_type": "code",
   "execution_count": 7,
   "id": "7de9b332",
   "metadata": {},
   "outputs": [
    {
     "name": "stdout",
     "output_type": "stream",
     "text": [
      "['6.1-fileoperations.ipynb', '6.2-filepath.ipynb', 'destination_file.txt', 'ex-2.txt', 'example.bin', 'example.txt', 'filehandlingquestions.ipynb', 'filehandlingsolution.ipynb', 'package']\n"
     ]
    }
   ],
   "source": [
    "##Listing all the files and directories\n",
    "\n",
    "lsit=os.listdir('.')  ##here this . means our current directory \n",
    "print(list)"
   ]
  },
  {
   "cell_type": "code",
   "execution_count": 9,
   "id": "8fde63e2",
   "metadata": {},
   "outputs": [
    {
     "name": "stdout",
     "output_type": "stream",
     "text": [
      "Folder\\file.txt\n"
     ]
    }
   ],
   "source": [
    "##Joining paths\n",
    "dir_name=\"Folder\"\n",
    "file_name=\"file.txt\"\n",
    "full_path=os.path.join(dir_name,file_name)\n",
    "print(full_path)"
   ]
  },
  {
   "cell_type": "code",
   "execution_count": 10,
   "id": "a437cf96",
   "metadata": {},
   "outputs": [
    {
     "name": "stdout",
     "output_type": "stream",
     "text": [
      "c:\\Users\\MOHAMMAD EQUAAN\\Desktop\\MLOPS\\1-python\\6-File handeling\\Folder\\file.txt\n"
     ]
    }
   ],
   "source": [
    "##joining it with current directory's path:::\n",
    "dir_name=\"Folder\"\n",
    "file_name=\"file.txt\"\n",
    "full_path=os.path.join(os.getcwd(),dir_name,file_name)\n",
    "print(full_path)"
   ]
  },
  {
   "cell_type": "code",
   "execution_count": 11,
   "id": "dea79194",
   "metadata": {},
   "outputs": [
    {
     "name": "stdout",
     "output_type": "stream",
     "text": [
      "The path 'example1.txt' does not exists\n"
     ]
    }
   ],
   "source": [
    "path=\"example1.txt\"\n",
    "if os.path.exists(path):\n",
    "    print(f\"The path '{path}' exists\")\n",
    "else:\n",
    "    print(f\"The path '{path}' does not exists\")"
   ]
  },
  {
   "cell_type": "code",
   "execution_count": 14,
   "id": "f6c1ea25",
   "metadata": {},
   "outputs": [
    {
     "name": "stdout",
     "output_type": "stream",
     "text": [
      "the path 'example.bin' is a file\n"
     ]
    }
   ],
   "source": [
    "##Checking the given path is either file or directory\n",
    "\n",
    "path=\"example.bin\"\n",
    "if os.path.isfile(path):\n",
    "    print(f\"the path '{path}' is a file\")\n",
    "elif os.path.isdir(path):\n",
    "    print(f\"The path '{path}' is a directory\")\n",
    "else:\n",
    "    print(f\"The path '{path}' is neither file nor directory\")"
   ]
  },
  {
   "cell_type": "code",
   "execution_count": 15,
   "id": "07d8b137",
   "metadata": {},
   "outputs": [
    {
     "name": "stdout",
     "output_type": "stream",
     "text": [
      "c:\\Users\\MOHAMMAD EQUAAN\\Desktop\\MLOPS\\1-python\\6-File handeling\\example1.txt\n"
     ]
    }
   ],
   "source": [
    "##Getting the absolute path\n",
    "\n",
    "relative_path=\"example1.txt\"\n",
    "absoulte_path=os.path.abspath(relative_path)\n",
    "print(absoulte_path)   #here we can use either this or we can join like we have done above"
   ]
  },
  {
   "cell_type": "code",
   "execution_count": null,
   "id": "4c76847f",
   "metadata": {},
   "outputs": [],
   "source": []
  }
 ],
 "metadata": {
  "kernelspec": {
   "display_name": ".venv",
   "language": "python",
   "name": "python3"
  },
  "language_info": {
   "codemirror_mode": {
    "name": "ipython",
    "version": 3
   },
   "file_extension": ".py",
   "mimetype": "text/x-python",
   "name": "python",
   "nbconvert_exporter": "python",
   "pygments_lexer": "ipython3",
   "version": "3.12.4"
  }
 },
 "nbformat": 4,
 "nbformat_minor": 5
}
