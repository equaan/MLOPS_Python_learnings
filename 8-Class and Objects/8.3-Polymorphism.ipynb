{
 "cells": [
  {
   "cell_type": "markdown",
   "id": "3bd9e890",
   "metadata": {},
   "source": [
    "## Polymorphism\n",
    "\n",
    "Polymorphism is a core concept in Object-Oriented Programming (OOP) that allows objects of different classes to be treated as objects of a common superclass. It provides a way to perform a single action in different forms. Polymorphism is typically achieved through method overiding and interfaces."
   ]
  },
  {
   "cell_type": "markdown",
   "id": "b968de94",
   "metadata": {},
   "source": [
    "### Mehtod Overriding \n",
    "Method Overriding allows a child to provide a specific inplementation of a method that is already defined in its parent class.   "
   ]
  },
  {
   "cell_type": "code",
   "execution_count": 6,
   "id": "57941d00",
   "metadata": {},
   "outputs": [
    {
     "name": "stdout",
     "output_type": "stream",
     "text": [
      "Woof!\n",
      "Meow!\n",
      "Woof!\n"
     ]
    }
   ],
   "source": [
    "## Base class\n",
    "\n",
    "class Animal:\n",
    "    def speak(self):\n",
    "        return \"sound of the animal\"\n",
    "\n",
    "##Derived class 1\n",
    "class Dog(Animal):\n",
    "    def speak (self): \n",
    "        return \"Woof!\"\n",
    "\n",
    "##Derived class 2\n",
    "class Cat(Animal):\n",
    "    def speak(self):\n",
    "        return \"Meow!\" \n",
    "\n",
    "##Function that demonstrates polymorphism\n",
    "def animal_speak(animal):\n",
    "    print(animal.speak())\n",
    "\n",
    "\n",
    "dog=Dog()\n",
    "cat=Cat()\n",
    "print(dog.speak())\n",
    "print(cat.speak())\n",
    "animal_speak(dog)\n"
   ]
  },
  {
   "cell_type": "code",
   "execution_count": 10,
   "id": "3202f5c8",
   "metadata": {},
   "outputs": [
    {
     "name": "stdout",
     "output_type": "stream",
     "text": [
      "The area is 20\n",
      "The area is 50.24\n"
     ]
    }
   ],
   "source": [
    "## Polymorphism with Functions and Methods\n",
    "##base class\n",
    "class shape:\n",
    "    def area(self):\n",
    "        return \"The area of the figure\"\n",
    "    \n",
    "##Derived class\n",
    "class Rectangle(shape):\n",
    "    def __init__(self,width,height):\n",
    "        self.width=width\n",
    "        self.height=height\n",
    "\n",
    "    def area(self):\n",
    "        return self.width * self.height\n",
    "    \n",
    "##Derived class 2\n",
    "class Circle(shape):\n",
    "    def __init__(self,radius):\n",
    "        self.radius=radius\n",
    "    \n",
    "    def area(self):\n",
    "        return 3.14 * self.radius * self.radius\n",
    "    \n",
    "##Function that demonstrates the polymorphism\n",
    "\n",
    "def print_area(shape):\n",
    "    print(f\"The area is {shape.area()}\")\n",
    "\n",
    "rectangle=Rectangle(4,5)\n",
    "circle=Circle(4)\n",
    "\n",
    "print_area(rectangle)\n",
    "print_area(circle)"
   ]
  },
  {
   "cell_type": "markdown",
   "id": "c10aec27",
   "metadata": {},
   "source": [
    "## Polymorphism with Abstract base Classes\n",
    "Abstract Base Class (ABCs) are used to define commom methods for a group of related objects. They can enforce that derived classes implement particular methods, promoting consistency across different implementations."
   ]
  },
  {
   "cell_type": "code",
   "execution_count": 14,
   "id": "3315806c",
   "metadata": {},
   "outputs": [
    {
     "ename": "TypeError",
     "evalue": "Can't instantiate abstract class Car without an implementation for abstract method 'class_engine'",
     "output_type": "error",
     "traceback": [
      "\u001b[31m---------------------------------------------------------------------------\u001b[39m",
      "\u001b[31mTypeError\u001b[39m                                 Traceback (most recent call last)",
      "\u001b[36mCell\u001b[39m\u001b[36m \u001b[39m\u001b[32mIn[14]\u001b[39m\u001b[32m, line 24\u001b[39m\n\u001b[32m     21\u001b[39m     \u001b[38;5;28mprint\u001b[39m(vehicle.start_engine())\n\u001b[32m     23\u001b[39m \u001b[38;5;66;03m##Create object of the car and motorcycle\u001b[39;00m\n\u001b[32m---> \u001b[39m\u001b[32m24\u001b[39m car=\u001b[43mCar\u001b[49m\u001b[43m(\u001b[49m\u001b[43m)\u001b[49m\n\u001b[32m     25\u001b[39m motorcycle=Motorcycle()\n\u001b[32m     26\u001b[39m \u001b[38;5;28mprint\u001b[39m(car.start_engine())\n",
      "\u001b[31mTypeError\u001b[39m: Can't instantiate abstract class Car without an implementation for abstract method 'class_engine'"
     ]
    }
   ],
   "source": [
    "from abc import ABC,abstractmethod\n",
    "\n",
    "##Define an abstract class\n",
    "class Vehicle(ABC):  ##this is basically complete empty class\n",
    "    @abstractmethod\n",
    "    def class_engine(self):\n",
    "        pass \n",
    "\n",
    "\n",
    "##Derived class 1\n",
    "class Car(Vehicle):\n",
    "    def start_engine(self):\n",
    "        return \"Car engine started\" \n",
    "    \n",
    "class Motorcycle(Vehicle):\n",
    "    def start_engine(self):\n",
    "        return \"Motorcycle engine started\"\n",
    "\n",
    "##function that demonstrats the polymorphism\n",
    "def start_engine(vehicle):\n",
    "    print(vehicle.start_engine())\n",
    "    \n",
    "##Create object of the car and motorcycle\n",
    "car=Car()\n",
    "motorcycle=Motorcycle()\n",
    "print(car.start_engine())\n",
    "\n"
   ]
  },
  {
   "cell_type": "markdown",
   "id": "b5003b07",
   "metadata": {},
   "source": [
    "## Conclusion\n",
    "Polymorphism is a powerful feature of OOP that allows for flexibility and integration in code design. It enables a single function to handle objects of different classes, each with its own implementtation of a method. By understanding and applying polymorphism, we can create more extensible and maintainable object-oriented programs."
   ]
  },
  {
   "cell_type": "code",
   "execution_count": null,
   "id": "a0e0876c",
   "metadata": {},
   "outputs": [],
   "source": []
  }
 ],
 "metadata": {
  "kernelspec": {
   "display_name": ".venv",
   "language": "python",
   "name": "python3"
  },
  "language_info": {
   "codemirror_mode": {
    "name": "ipython",
    "version": 3
   },
   "file_extension": ".py",
   "mimetype": "text/x-python",
   "name": "python",
   "nbconvert_exporter": "python",
   "pygments_lexer": "ipython3",
   "version": "3.12.4"
  }
 },
 "nbformat": 4,
 "nbformat_minor": 5
}
