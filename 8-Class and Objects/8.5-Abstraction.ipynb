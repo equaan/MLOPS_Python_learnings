{
 "cells": [
  {
   "cell_type": "markdown",
   "id": "9f99a8cb",
   "metadata": {},
   "source": [
    "## Abstraction \n",
    "\n",
    "Abstraction is the concept of hiding the complex implementation details and showing only the necessary features of an object. This helps in reducing programming complexity and effort."
   ]
  },
  {
   "cell_type": "markdown",
   "id": "1ee75f62",
   "metadata": {},
   "source": [
    "We can take an example of washing machine as we see the only easy things like you put the clothes in it and just click the button and it does the work, and the remaining complex implementation like how every process takes place, what happens when you click certain button etc these are all hidden. "
   ]
  },
  {
   "cell_type": "code",
   "execution_count": 2,
   "id": "9cceb89a",
   "metadata": {},
   "outputs": [
    {
     "name": "stdout",
     "output_type": "stream",
     "text": [
      "Car engine started\n",
      "The vehicle is used for driving\n"
     ]
    }
   ],
   "source": [
    "from abc import ABC, abstractmethod\n",
    "\n",
    "##Abstract base class\n",
    "class Vehicle(ABC): ##the major difference between normal and abstract class is we inherit ABC module\n",
    "    def drive(self):\n",
    "        print(\"The vehicle is used for driving\")\n",
    "\n",
    "    @abstractmethod ##abstract method\n",
    "    def start_engine(self):\n",
    "        pass\n",
    "\n",
    "class Car(Vehicle):\n",
    "    def start_engine(self):\n",
    "        print(\"Car engine started\")\n",
    "\n",
    "def operate_vehicle(vehicle):\n",
    "    vehicle.start_engine()\n",
    "    vehicle.drive()\n",
    "\n",
    "car=Car()\n",
    "operate_vehicle(car)"
   ]
  },
  {
   "cell_type": "code",
   "execution_count": null,
   "id": "7cbfa07e",
   "metadata": {},
   "outputs": [],
   "source": []
  }
 ],
 "metadata": {
  "kernelspec": {
   "display_name": ".venv",
   "language": "python",
   "name": "python3"
  },
  "language_info": {
   "codemirror_mode": {
    "name": "ipython",
    "version": 3
   },
   "file_extension": ".py",
   "mimetype": "text/x-python",
   "name": "python",
   "nbconvert_exporter": "python",
   "pygments_lexer": "ipython3",
   "version": "3.12.4"
  }
 },
 "nbformat": 4,
 "nbformat_minor": 5
}
